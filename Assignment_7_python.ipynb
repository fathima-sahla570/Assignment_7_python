{
 "cells": [
  {
   "cell_type": "markdown",
   "id": "8f6b6f23-5884-4c81-b544-52ee96de200d",
   "metadata": {},
   "source": [
    " 1 Create a numpy array containing the numbers from 1 to 10, and then reshape it to a 2x5 matrix.\n"
   ]
  },
  {
   "cell_type": "code",
   "execution_count": 4,
   "id": "fd1a6df5-3786-4078-a970-632433f588e8",
   "metadata": {},
   "outputs": [],
   "source": [
    "import numpy as np\n"
   ]
  },
  {
   "cell_type": "code",
   "execution_count": 6,
   "id": "8d8e9413-3075-4f58-a1d1-cd43f261e59b",
   "metadata": {},
   "outputs": [
    {
     "name": "stdout",
     "output_type": "stream",
     "text": [
      "[ 1  2  3  4  5  6  7  8  9 10]\n",
      "[[ 1  2  3  4  5]\n",
      " [ 6  7  8  9 10]]\n"
     ]
    }
   ],
   "source": [
    "arr = np.arange(1, 11)\n",
    "print(arr)\n",
    "reshaped_arr = arr.reshape(2, 5)\n",
    "print(reshaped_arr)\n"
   ]
  },
  {
   "cell_type": "markdown",
   "id": "73131b28-42be-4d43-a879-cf073b02198e",
   "metadata": {},
   "source": [
    " 2 Create a numpy array containing the numbers from 1 to 20, and then extract the elements between the 5th and 15th index."
   ]
  },
  {
   "cell_type": "code",
   "execution_count": 14,
   "id": "ecadddf1-74fe-44d5-8282-e97782aff11e",
   "metadata": {},
   "outputs": [
    {
     "name": "stdout",
     "output_type": "stream",
     "text": [
      "[ 6  7  8  9 10 11 12 13 14 15]\n"
     ]
    }
   ],
   "source": [
    "\n",
    "arr = np.arange(1, 21)\n",
    "arr\n",
    "subset = arr[5:15]\n",
    "print(subset)\n"
   ]
  },
  {
   "cell_type": "markdown",
   "id": "b4beaca2-1704-4172-b0b1-ab3ac6299123",
   "metadata": {},
   "source": [
    " 3 Create a Pandas series with the following data: {'apples': 3, 'bananas': 2, 'oranges': 1}. Then, add a new item to the series with the key 'pears' and the value 4. "
   ]
  },
  {
   "cell_type": "code",
   "execution_count": 24,
   "id": "50ea8038-3141-4c0d-bc7a-e903d6606b71",
   "metadata": {},
   "outputs": [],
   "source": [
    "import pandas as pd"
   ]
  },
  {
   "cell_type": "code",
   "execution_count": 26,
   "id": "042def4d-c08d-4c51-974a-3b536d224493",
   "metadata": {},
   "outputs": [
    {
     "name": "stdout",
     "output_type": "stream",
     "text": [
      "apples     3\n",
      "bananas    2\n",
      "oranges    1\n",
      "dtype: int64\n",
      "apples     3\n",
      "bananas    2\n",
      "oranges    1\n",
      "pears      4\n",
      "dtype: int64\n"
     ]
    }
   ],
   "source": [
    "\n",
    "fruit_series = pd.Series({'apples': 3, 'bananas': 2, 'oranges': 1})\n",
    "print(fruit_series)\n",
    "fruit_series['pears'] = 4\n",
    "print(fruit_series)\n"
   ]
  },
  {
   "cell_type": "markdown",
   "id": "5a57822c-2fb7-4693-a01d-0dafcf436ff0",
   "metadata": {},
   "source": [
    "4 Create a dataframe with the following columns: name, age, and gender. The dataframe should have 10 rows of data. "
   ]
  },
  {
   "cell_type": "code",
   "execution_count": 28,
   "id": "3e66698d-c6cb-45cf-b423-4456882107d8",
   "metadata": {},
   "outputs": [
    {
     "name": "stdout",
     "output_type": "stream",
     "text": [
      "      name  age  gender\n",
      "0    Alice   25  Female\n",
      "1      Bob   30    Male\n",
      "2  Charlie   22    Male\n",
      "3    David   28    Male\n",
      "4     Emma   35  Female\n",
      "5    Frank   40    Male\n",
      "6    Grace   27  Female\n",
      "7    Helen   26  Female\n",
      "8      Ian   29    Male\n",
      "9     Jack   31    Male\n"
     ]
    }
   ],
   "source": [
    "\n",
    "data = {\n",
    "    'name': ['Alice', 'Bob', 'Charlie', 'David', 'Emma', 'Frank', 'Grace', 'Helen', 'Ian', 'Jack'],\n",
    "    'age': [25, 30, 22, 28, 35, 40, 27, 26, 29, 31],\n",
    "    'gender': ['Female', 'Male', 'Male', 'Male', 'Female', 'Male', 'Female', 'Female', 'Male', 'Male']\n",
    "}\n",
    "\n",
    "df = pd.DataFrame(data)\n",
    "print(df)\n"
   ]
  },
  {
   "cell_type": "markdown",
   "id": "1b3232dc-ee48-4dad-b682-b08530b6f2d1",
   "metadata": {},
   "source": [
    " 5 Add a new column to the data frame created in question 1, called occupation. The values for this column should be Programmer, Manager, and Analyst, corresponding to the rows in the dataframe. "
   ]
  },
  {
   "cell_type": "code",
   "execution_count": 33,
   "id": "ec6a18df-81ef-4460-a72c-e74fa85dab81",
   "metadata": {},
   "outputs": [
    {
     "name": "stdout",
     "output_type": "stream",
     "text": [
      "      name  age  gender  occupation\n",
      "0    Alice   25  Female  Programmer\n",
      "1      Bob   30    Male     Manager\n",
      "2  Charlie   22    Male     Analyst\n",
      "3    David   28    Male  Programmer\n",
      "4     Emma   35  Female     Manager\n",
      "5    Frank   40    Male     Analyst\n",
      "6    Grace   27  Female  Programmer\n",
      "7    Helen   26  Female     Manager\n",
      "8      Ian   29    Male     Analyst\n",
      "9     Jack   31    Male  Programmer\n"
     ]
    }
   ],
   "source": [
    "\n",
    "data = {\n",
    "    'name': ['Alice', 'Bob', 'Charlie', 'David', 'Emma', 'Frank', 'Grace', 'Helen', 'Ian', 'Jack'],\n",
    "    'age': [25, 30, 22, 28, 35, 40, 27, 26, 29, 31],\n",
    "    'gender': ['Female', 'Male', 'Male', 'Male', 'Female', 'Male', 'Female', 'Female', 'Male', 'Male']\n",
    "}\n",
    "\n",
    "df = pd.DataFrame(data)\n",
    "\n",
    "occupations = ['Programmer', 'Manager', 'Analyst'] * (len(df) // 3) + ['Programmer']\n",
    "df['occupation'] = occupations\n",
    "\n",
    "print(df)\n"
   ]
  },
  {
   "cell_type": "markdown",
   "id": "6eb1a31b-2e87-42cf-a6f9-2ddd0fcc6c3f",
   "metadata": {},
   "source": [
    "6 select the rows of the dataframe where the age is greater than or equal to 30."
   ]
  },
  {
   "cell_type": "code",
   "execution_count": 35,
   "id": "c45eaf6a-5487-457a-a696-e1ff83de86d2",
   "metadata": {},
   "outputs": [
    {
     "name": "stdout",
     "output_type": "stream",
     "text": [
      "    name  age  gender  occupation\n",
      "1    Bob   30    Male     Manager\n",
      "4   Emma   35  Female     Manager\n",
      "5  Frank   40    Male     Analyst\n",
      "9   Jack   31    Male  Programmer\n"
     ]
    }
   ],
   "source": [
    "\n",
    "data = {\n",
    "    'name': ['Alice', 'Bob', 'Charlie', 'David', 'Emma', 'Frank', 'Grace', 'Helen', 'Ian', 'Jack'],\n",
    "    'age': [25, 30, 22, 28, 35, 40, 27, 26, 29, 31],\n",
    "    'gender': ['Female', 'Male', 'Male', 'Male', 'Female', 'Male', 'Female', 'Female', 'Male', 'Male'],\n",
    "    'occupation': ['Programmer', 'Manager', 'Analyst', 'Programmer', 'Manager', 'Analyst', 'Programmer', 'Manager', 'Analyst', 'Programmer']\n",
    "}\n",
    "\n",
    "df = pd.DataFrame(data)\n",
    "filtered_df = df[df['age'] >= 30]\n",
    "print(filtered_df)\n"
   ]
  },
  {
   "cell_type": "markdown",
   "id": "8d90d94f-adc0-4f61-9b3b-701a8780bae2",
   "metadata": {},
   "source": [
    "7 Convert this dataframe to a csv file and read that csv file, finally display the contents."
   ]
  },
  {
   "cell_type": "code",
   "execution_count": 37,
   "id": "f9a84bcf-4253-4c16-9d5a-2999fb8af525",
   "metadata": {},
   "outputs": [
    {
     "name": "stdout",
     "output_type": "stream",
     "text": [
      "      name  age  gender  occupation\n",
      "0    Alice   25  Female  Programmer\n",
      "1      Bob   30    Male     Manager\n",
      "2  Charlie   22    Male     Analyst\n",
      "3    David   28    Male  Programmer\n",
      "4     Emma   35  Female     Manager\n",
      "5    Frank   40    Male     Analyst\n",
      "6    Grace   27  Female  Programmer\n",
      "7    Helen   26  Female     Manager\n",
      "8      Ian   29    Male     Analyst\n",
      "9     Jack   31    Male  Programmer\n"
     ]
    }
   ],
   "source": [
    "\n",
    "data = {\n",
    "    'name': ['Alice', 'Bob', 'Charlie', 'David', 'Emma', 'Frank', 'Grace', 'Helen', 'Ian', 'Jack'],\n",
    "    'age': [25, 30, 22, 28, 35, 40, 27, 26, 29, 31],\n",
    "    'gender': ['Female', 'Male', 'Male', 'Male', 'Female', 'Male', 'Female', 'Female', 'Male', 'Male'],\n",
    "    'occupation': ['Programmer', 'Manager', 'Analyst', 'Programmer', 'Manager', 'Analyst', 'Programmer', 'Manager', 'Analyst', 'Programmer']\n",
    "}\n",
    "\n",
    "df = pd.DataFrame(data)\n",
    "csv_filename = \"data.csv\"\n",
    "df.to_csv(csv_filename, index=False)\n",
    "df1 = pd.read_csv(csv_filename)\n",
    "print(df1)\n"
   ]
  },
  {
   "cell_type": "code",
   "execution_count": null,
   "id": "a0ec710d-0e3c-42cb-8108-7d0ce1e98398",
   "metadata": {},
   "outputs": [],
   "source": []
  },
  {
   "cell_type": "code",
   "execution_count": null,
   "id": "44ea6581-f58c-47c5-8c14-57bbc118ba97",
   "metadata": {},
   "outputs": [],
   "source": []
  },
  {
   "cell_type": "code",
   "execution_count": null,
   "id": "7f1b152d-05a8-43f7-b47c-a032b37f23a0",
   "metadata": {},
   "outputs": [],
   "source": []
  },
  {
   "cell_type": "code",
   "execution_count": null,
   "id": "2507338f-967a-44fb-8cc1-39769475a7bb",
   "metadata": {},
   "outputs": [],
   "source": []
  },
  {
   "cell_type": "code",
   "execution_count": null,
   "id": "75f97f43-43e0-4e30-8f6a-f2ae72d8a219",
   "metadata": {},
   "outputs": [],
   "source": []
  },
  {
   "cell_type": "code",
   "execution_count": null,
   "id": "d7f8dedc-0f46-46c2-b89b-c92759341943",
   "metadata": {},
   "outputs": [],
   "source": []
  }
 ],
 "metadata": {
  "kernelspec": {
   "display_name": "Python 3 (ipykernel)",
   "language": "python",
   "name": "python3"
  },
  "language_info": {
   "codemirror_mode": {
    "name": "ipython",
    "version": 3
   },
   "file_extension": ".py",
   "mimetype": "text/x-python",
   "name": "python",
   "nbconvert_exporter": "python",
   "pygments_lexer": "ipython3",
   "version": "3.12.7"
  }
 },
 "nbformat": 4,
 "nbformat_minor": 5
}
